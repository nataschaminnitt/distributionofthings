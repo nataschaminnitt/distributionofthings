{
 "cells": [
  {
   "cell_type": "markdown",
   "id": "c941c8b7-3b12-4bb1-9945-837b2f4dac03",
   "metadata": {},
   "source": [
    "# Military Expenditure Comapred with Country Wealth and Per Capita"
   ]
  },
  {
   "cell_type": "markdown",
   "id": "4d7733ff-73b0-4fa2-b9dc-d4da85b4047f",
   "metadata": {},
   "source": [
    "## Introduction"
   ]
  },
  {
   "cell_type": "markdown",
   "id": "b0522044-b28d-4734-99de-e975efee69a9",
   "metadata": {},
   "source": [
    "This analysis expands on Our World in Data's page \"Military expenditure\". This analysis puts military expensiture in perspective comparing it with each government's overall budget, GDP per country, and country size (in capita).\n",
    "\n",
    "Citations:\n",
    "[1] “Data Page: Military expenditure”, part of the following publication: Bastian Herre and Pablo Arriagada (2013) - “Military Personnel and Spending”. Data adapted from Stockholm International Peace Research Institute. Retrieved from https://ourworldindata.org/grapher/military-spending-sipri [online resource].\n",
    "\n",
    "[2] "
   ]
  },
  {
   "cell_type": "markdown",
   "id": "c6eb5846-85d3-4ad9-a51e-15ce34fe760c",
   "metadata": {},
   "source": [
    "## Data Loading and Exploration"
   ]
  },
  {
   "cell_type": "code",
   "execution_count": 9,
   "id": "641a4567-399f-495c-8431-aef431bb58d2",
   "metadata": {},
   "outputs": [],
   "source": [
    "import pandas as pd\n",
    "import numpy as np\n",
    "import matplotlib.pyplot as plt"
   ]
  },
  {
   "cell_type": "code",
   "execution_count": 25,
   "id": "91936a5c-9ea3-4a2d-8dec-cf2a08d63487",
   "metadata": {},
   "outputs": [
    {
     "data": {
      "text/html": [
       "<div>\n",
       "<style scoped>\n",
       "    .dataframe tbody tr th:only-of-type {\n",
       "        vertical-align: middle;\n",
       "    }\n",
       "\n",
       "    .dataframe tbody tr th {\n",
       "        vertical-align: top;\n",
       "    }\n",
       "\n",
       "    .dataframe thead th {\n",
       "        text-align: right;\n",
       "    }\n",
       "</style>\n",
       "<table border=\"1\" class=\"dataframe\">\n",
       "  <thead>\n",
       "    <tr style=\"text-align: right;\">\n",
       "      <th></th>\n",
       "      <th>Entity</th>\n",
       "      <th>Code</th>\n",
       "      <th>Year</th>\n",
       "      <th>Military expenditure (constant US$)</th>\n",
       "    </tr>\n",
       "  </thead>\n",
       "  <tbody>\n",
       "    <tr>\n",
       "      <th>0</th>\n",
       "      <td>Afghanistan</td>\n",
       "      <td>AFG</td>\n",
       "      <td>1970</td>\n",
       "      <td>62800316.0</td>\n",
       "    </tr>\n",
       "    <tr>\n",
       "      <th>1</th>\n",
       "      <td>Afghanistan</td>\n",
       "      <td>AFG</td>\n",
       "      <td>1973</td>\n",
       "      <td>72822540.0</td>\n",
       "    </tr>\n",
       "    <tr>\n",
       "      <th>2</th>\n",
       "      <td>Afghanistan</td>\n",
       "      <td>AFG</td>\n",
       "      <td>1974</td>\n",
       "      <td>70782330.0</td>\n",
       "    </tr>\n",
       "    <tr>\n",
       "      <th>3</th>\n",
       "      <td>Afghanistan</td>\n",
       "      <td>AFG</td>\n",
       "      <td>1975</td>\n",
       "      <td>74303500.0</td>\n",
       "    </tr>\n",
       "    <tr>\n",
       "      <th>4</th>\n",
       "      <td>Afghanistan</td>\n",
       "      <td>AFG</td>\n",
       "      <td>1976</td>\n",
       "      <td>94766424.0</td>\n",
       "    </tr>\n",
       "  </tbody>\n",
       "</table>\n",
       "</div>"
      ],
      "text/plain": [
       "        Entity Code  Year  Military expenditure (constant US$)\n",
       "0  Afghanistan  AFG  1970                           62800316.0\n",
       "1  Afghanistan  AFG  1973                           72822540.0\n",
       "2  Afghanistan  AFG  1974                           70782330.0\n",
       "3  Afghanistan  AFG  1975                           74303500.0\n",
       "4  Afghanistan  AFG  1976                           94766424.0"
      ]
     },
     "execution_count": 25,
     "metadata": {},
     "output_type": "execute_result"
    }
   ],
   "source": [
    "military = pd.read_csv(\"https://raw.githubusercontent.com/nataschaminnitt/distributionofthings/main/military_expenditure/data/military-spending-sipri.csv\")\n",
    "military.head()"
   ]
  },
  {
   "cell_type": "code",
   "execution_count": 27,
   "id": "8e83fde5-b079-41d7-8498-d45398d2f533",
   "metadata": {},
   "outputs": [
    {
     "data": {
      "text/html": [
       "<div>\n",
       "<style scoped>\n",
       "    .dataframe tbody tr th:only-of-type {\n",
       "        vertical-align: middle;\n",
       "    }\n",
       "\n",
       "    .dataframe tbody tr th {\n",
       "        vertical-align: top;\n",
       "    }\n",
       "\n",
       "    .dataframe thead th {\n",
       "        text-align: right;\n",
       "    }\n",
       "</style>\n",
       "<table border=\"1\" class=\"dataframe\">\n",
       "  <thead>\n",
       "    <tr style=\"text-align: right;\">\n",
       "      <th></th>\n",
       "      <th>Year</th>\n",
       "      <th>Military expenditure (constant US$)</th>\n",
       "    </tr>\n",
       "  </thead>\n",
       "  <tbody>\n",
       "    <tr>\n",
       "      <th>count</th>\n",
       "      <td>8872.000000</td>\n",
       "      <td>8.872000e+03</td>\n",
       "    </tr>\n",
       "    <tr>\n",
       "      <th>mean</th>\n",
       "      <td>1995.111925</td>\n",
       "      <td>2.988774e+10</td>\n",
       "    </tr>\n",
       "    <tr>\n",
       "      <th>std</th>\n",
       "      <td>18.693832</td>\n",
       "      <td>1.467496e+11</td>\n",
       "    </tr>\n",
       "    <tr>\n",
       "      <th>min</th>\n",
       "      <td>1948.000000</td>\n",
       "      <td>0.000000e+00</td>\n",
       "    </tr>\n",
       "    <tr>\n",
       "      <th>25%</th>\n",
       "      <td>1981.000000</td>\n",
       "      <td>1.369158e+08</td>\n",
       "    </tr>\n",
       "    <tr>\n",
       "      <th>50%</th>\n",
       "      <td>1998.000000</td>\n",
       "      <td>1.086390e+09</td>\n",
       "    </tr>\n",
       "    <tr>\n",
       "      <th>75%</th>\n",
       "      <td>2011.000000</td>\n",
       "      <td>5.787154e+09</td>\n",
       "    </tr>\n",
       "    <tr>\n",
       "      <th>max</th>\n",
       "      <td>2023.000000</td>\n",
       "      <td>2.393601e+12</td>\n",
       "    </tr>\n",
       "  </tbody>\n",
       "</table>\n",
       "</div>"
      ],
      "text/plain": [
       "              Year  Military expenditure (constant US$)\n",
       "count  8872.000000                         8.872000e+03\n",
       "mean   1995.111925                         2.988774e+10\n",
       "std      18.693832                         1.467496e+11\n",
       "min    1948.000000                         0.000000e+00\n",
       "25%    1981.000000                         1.369158e+08\n",
       "50%    1998.000000                         1.086390e+09\n",
       "75%    2011.000000                         5.787154e+09\n",
       "max    2023.000000                         2.393601e+12"
      ]
     },
     "execution_count": 27,
     "metadata": {},
     "output_type": "execute_result"
    }
   ],
   "source": [
    "military.describe()"
   ]
  },
  {
   "cell_type": "code",
   "execution_count": null,
   "id": "ac35513f-1ffd-4c08-ba19-b87a0154e9a1",
   "metadata": {},
   "outputs": [],
   "source": []
  }
 ],
 "metadata": {
  "kernelspec": {
   "display_name": "Python 3 (ipykernel)",
   "language": "python",
   "name": "python3"
  },
  "language_info": {
   "codemirror_mode": {
    "name": "ipython",
    "version": 3
   },
   "file_extension": ".py",
   "mimetype": "text/x-python",
   "name": "python",
   "nbconvert_exporter": "python",
   "pygments_lexer": "ipython3",
   "version": "3.11.7"
  }
 },
 "nbformat": 4,
 "nbformat_minor": 5
}
